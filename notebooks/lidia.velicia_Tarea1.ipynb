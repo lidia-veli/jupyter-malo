{
 "cells": [
  {
   "cell_type": "markdown",
   "metadata": {},
   "source": [
    "Divide 28 por 2 elevado a la quinta potencia como número racional y obtén después su aproximación decimal\n"
   ]
  },
  {
   "cell_type": "code",
   "execution_count": 1,
   "metadata": {},
   "outputs": [
    {
     "name": "stdout",
     "output_type": "stream",
     "text": [
      "0.875\n"
     ]
    },
    {
     "ename": "NameError",
     "evalue": "name 'n' is not defined",
     "output_type": "error",
     "traceback": [
      "\u001b[0;31m---------------------------------------------------------------------------\u001b[0m",
      "\u001b[0;31mNameError\u001b[0m                                 Traceback (most recent call last)",
      "Cell \u001b[0;32mIn [1], line 3\u001b[0m\n\u001b[1;32m      1\u001b[0m a \u001b[39m=\u001b[39m \u001b[39m28\u001b[39m\u001b[39m/\u001b[39m(\u001b[39m2\u001b[39m)\u001b[39m*\u001b[39m\u001b[39m*\u001b[39m\u001b[39m5\u001b[39m\n\u001b[1;32m      2\u001b[0m \u001b[39mprint\u001b[39m(a)\n\u001b[0;32m----> 3\u001b[0m aprox \u001b[39m=\u001b[39m n(a) \u001b[39m#aproximación decimal de a\u001b[39;00m\n\u001b[1;32m      4\u001b[0m \u001b[39mprint\u001b[39m(aprox)\n",
      "\u001b[0;31mNameError\u001b[0m: name 'n' is not defined"
     ]
    }
   ],
   "source": [
    "a = 28/(2)**5\n",
    "print(a)\n",
    "aprox = n(a) #aproximación decimal de a\n",
    "print(aprox)"
   ]
  },
  {
   "cell_type": "markdown",
   "metadata": {},
   "source": [
    "Obtén una aproximación decimal de raíz cuadrada de 2\n"
   ]
  },
  {
   "cell_type": "code",
   "execution_count": 2,
   "metadata": {},
   "outputs": [
    {
     "name": "stdout",
     "output_type": "stream",
     "text": [
      "1.41421356237310\n"
     ]
    }
   ],
   "source": [
    "print( n(sqrt(2)) )"
   ]
  },
  {
   "cell_type": "markdown",
   "metadata": {},
   "source": [
    "Calcula la raíz cuadrada de -9"
   ]
  },
  {
   "cell_type": "code",
   "execution_count": 3,
   "metadata": {},
   "outputs": [
    {
     "name": "stdout",
     "output_type": "stream",
     "text": [
      "3*I\n"
     ]
    }
   ],
   "source": [
    "print( sqrt(-9) )"
   ]
  },
  {
   "cell_type": "markdown",
   "metadata": {},
   "source": [
    "Calcula el logaritmo en base 3 de 2153693963075557766310747"
   ]
  },
  {
   "cell_type": "code",
   "execution_count": 4,
   "metadata": {},
   "outputs": [
    {
     "data": {
      "text/plain": [
       "51"
      ]
     },
     "execution_count": 4,
     "metadata": {},
     "output_type": "execute_result"
    }
   ],
   "source": [
    "log(2153693963075557766310747, 3)"
   ]
  },
  {
   "cell_type": "markdown",
   "metadata": {},
   "source": [
    "Calcula las 50 primeras cifras decimales del número e"
   ]
  },
  {
   "cell_type": "code",
   "execution_count": 5,
   "metadata": {},
   "outputs": [
    {
     "name": "stdout",
     "output_type": "stream",
     "text": [
      "2.7182818284590452353602874713526624977572470937000\n"
     ]
    }
   ],
   "source": [
    "print( e.n(digits=50) )"
   ]
  },
  {
   "cell_type": "markdown",
   "metadata": {},
   "source": [
    "Calcula las 80 primeras cifras decimales del número π"
   ]
  },
  {
   "cell_type": "code",
   "execution_count": 6,
   "metadata": {},
   "outputs": [
    {
     "name": "stdout",
     "output_type": "stream",
     "text": [
      "3.1415926535897932384626433832795028841971693993751058209749445923078164062862090\n"
     ]
    }
   ],
   "source": [
    "print( pi.n(digits=80) )"
   ]
  },
  {
   "cell_type": "markdown",
   "metadata": {},
   "source": [
    "Obtén el cociente y el resto de dividir 956 entre 98"
   ]
  },
  {
   "cell_type": "code",
   "execution_count": 7,
   "metadata": {},
   "outputs": [
    {
     "name": "stdout",
     "output_type": "stream",
     "text": [
      "cociente: 9\n",
      "resto: 74\n"
     ]
    }
   ],
   "source": [
    "c = 956//98 #cociente\n",
    "r = 956%98 #resto\n",
    "print('cociente:',c)\n",
    "print('resto:',r)"
   ]
  },
  {
   "cell_type": "markdown",
   "metadata": {},
   "source": [
    "Comprueba que el cociente y el resto obtenidos en el apartado anterior son correctos con la prueba de Euclides"
   ]
  },
  {
   "cell_type": "code",
   "execution_count": 8,
   "metadata": {},
   "outputs": [
    {
     "name": "stdout",
     "output_type": "stream",
     "text": [
      "True\n"
     ]
    }
   ],
   "source": [
    "print( 98*c + r == 956) "
   ]
  },
  {
   "cell_type": "markdown",
   "metadata": {},
   "source": [
    "Determina si 3 divide 234878"
   ]
  },
  {
   "cell_type": "code",
   "execution_count": 9,
   "metadata": {},
   "outputs": [
    {
     "name": "stdout",
     "output_type": "stream",
     "text": [
      "False\n"
     ]
    }
   ],
   "source": [
    "print( 234878%3 == 0 ) #3 divide a 234878 si el resto de la división es 0"
   ]
  },
  {
   "cell_type": "markdown",
   "metadata": {},
   "source": [
    "Calcula la lista de divisores de cada uno de los siguientes números enteros: 134, 491, 422 y 1002"
   ]
  },
  {
   "cell_type": "code",
   "execution_count": 10,
   "metadata": {},
   "outputs": [
    {
     "name": "stdout",
     "output_type": "stream",
     "text": [
      "divisores de 134 : [1, 2, 67, 134]\n",
      "\n",
      "divisores de 491 : [1, 491] ¡OMG es primo!\n",
      "\n",
      "divisores de 422 : [1, 2, 211, 422]\n",
      "\n",
      "divisores de 1002 : [1, 2, 3, 6, 167, 334, 501, 1002]\n",
      "\n"
     ]
    }
   ],
   "source": [
    "numeros = [134, 491, 422, 1002]\n",
    "for n in numeros:\n",
    "    divisores=[] #creamos una lista vacía donde vamos a añadir los divisores\n",
    "    for k in range(1,n+1): #los posibles divisores son los numeros menores o iguales que él\n",
    "        if n%k == 0: #CONDICIÓN DIVISOR: que el resto al dividir sea nulo\n",
    "            divisores.append(k) #lo añadimos a la lista de divisores\n",
    "        else:\n",
    "            pass\n",
    "    if len(divisores)>2: #no es primo\n",
    "        print('divisores de',n,':', divisores)\n",
    "    else: #es primo (solo tiene como divisores el 1 y él mismo)\n",
    "        print('divisores de',n,':', divisores, '¡OMG es primo!')\n",
    "    print()\n",
    "        "
   ]
  },
  {
   "cell_type": "markdown",
   "metadata": {},
   "source": [
    "De los enteros del ejercicio anterior, ¿cuáles son números primos?"
   ]
  },
  {
   "cell_type": "code",
   "execution_count": 11,
   "metadata": {},
   "outputs": [
    {
     "name": "stdout",
     "output_type": "stream",
     "text": [
      "\n",
      "491 es primo\n",
      "\n",
      "\n",
      "\n"
     ]
    }
   ],
   "source": [
    "numeros = [134, 491, 422, 1002]\n",
    "for n in numeros:\n",
    "    divisores=[] \n",
    "    for k in range(1,n+1): \n",
    "        if n%k == 0: \n",
    "            divisores.append(k) \n",
    "        else:\n",
    "            pass\n",
    "    \n",
    "    if len(divisores)==2: #CONDICION PRIMO: que sólo tenga 2 divisores: el 1 y él mismo\n",
    "        print(n, 'es primo')\n",
    "    print()"
   ]
  },
  {
   "cell_type": "markdown",
   "metadata": {},
   "source": [
    "Calcula el máximo común divisor (mcd) y el mínimo común múltiple (mcm) para los pares de números enteros (2,5), (4,10) y \n",
    "(18, 51)."
   ]
  },
  {
   "cell_type": "code",
   "execution_count": 12,
   "metadata": {},
   "outputs": [
    {
     "name": "stdout",
     "output_type": "stream",
     "text": [
      "3\n"
     ]
    }
   ],
   "source": [
    "print( max([2,3]) ) #la funcion máximo requiere como argumento un objeto iterable"
   ]
  },
  {
   "cell_type": "code",
   "execution_count": 13,
   "metadata": {},
   "outputs": [],
   "source": [
    "#definimos la funcion divisores(*entero*)\n",
    "# que dado un entero nos devuelve la lista de sus divisores\n",
    "def divisores(n):\n",
    "    d=[] \n",
    "    for k in range(1,n+1):\n",
    "        if n%k == 0:\n",
    "            d.append(k) \n",
    "        else:\n",
    "            pass\n",
    "    \n",
    "    return d"
   ]
  },
  {
   "cell_type": "code",
   "execution_count": 14,
   "metadata": {},
   "outputs": [
    {
     "data": {
      "text/plain": [
       "[1, 3, 5, 15]"
      ]
     },
     "execution_count": 14,
     "metadata": {},
     "output_type": "execute_result"
    }
   ],
   "source": [
    "divisores(15)"
   ]
  },
  {
   "cell_type": "code",
   "execution_count": 15,
   "metadata": {},
   "outputs": [],
   "source": [
    "#definimos la función mcd(*entero*,*entero*)\n",
    "# que dados dos enteros, te devuelve su maximo comun divisor\n",
    "def mcd(a,b):\n",
    "    A=divisores(a) #lista divisores de a\n",
    "    B=divisores(b) #lista divisores de b\n",
    "    comunes=[] #lista vacía en la que vamos a meter los divisores comunes de a y b\n",
    "    \n",
    "    for i in range(len(A)): #recorremos la lista de divisores de a\n",
    "        for j in range(len(B)): #y la de b\n",
    "            if A[i]==B[j]: #si el divisor es común\n",
    "                comunes.append(A[i]) #lo añadimos a la lista\n",
    "            else:\n",
    "                pass\n",
    "    \n",
    "    return max(comunes) #el mcd de dos números es el mayor de los divisores comunes"
   ]
  },
  {
   "cell_type": "code",
   "execution_count": 16,
   "metadata": {},
   "outputs": [
    {
     "name": "stdout",
     "output_type": "stream",
     "text": [
      "el mcd(2,5) es: 1\n",
      "el mcd(4,10) es: 2\n",
      "el mcd(18,51) es: 3\n"
     ]
    }
   ],
   "source": [
    "print('el mcd(2,5) es:' , mcd(2,5))\n",
    "print('el mcd(4,10) es:' , mcd(4,10))\n",
    "print('el mcd(18,51) es:' , mcd(18,51))"
   ]
  },
  {
   "cell_type": "code",
   "execution_count": 17,
   "metadata": {},
   "outputs": [],
   "source": [
    "#podemos definir el mcm a partir del mcd: \n",
    "def mcm(a,b):\n",
    "    return a*b/mcd(a,b)"
   ]
  },
  {
   "cell_type": "code",
   "execution_count": 18,
   "metadata": {},
   "outputs": [
    {
     "name": "stdout",
     "output_type": "stream",
     "text": [
      "el mcm(2,5) es: 10\n",
      "el mcm(4,10) es: 20\n",
      "el mcm(18,51) es: 306\n"
     ]
    }
   ],
   "source": [
    "print('el mcm(2,5) es:' , mcm(2,5))\n",
    "print('el mcm(4,10) es:' , mcm(4,10))\n",
    "print('el mcm(18,51) es:' , mcm(18,51))"
   ]
  }
 ],
 "metadata": {
  "kernelspec": {
   "display_name": "Python 3.10.4 64-bit",
   "language": "python",
   "name": "python3"
  },
  "language_info": {
   "codemirror_mode": {
    "name": "ipython",
    "version": 3
   },
   "file_extension": ".py",
   "mimetype": "text/x-python",
   "name": "python",
   "nbconvert_exporter": "python",
   "pygments_lexer": "ipython3",
   "version": "3.10.4"
  },
  "vscode": {
   "interpreter": {
    "hash": "3ad933181bd8a04b432d3370b9dc3b0662ad032c4dfaa4e4f1596c548f763858"
   }
  }
 },
 "nbformat": 4,
 "nbformat_minor": 4
}
